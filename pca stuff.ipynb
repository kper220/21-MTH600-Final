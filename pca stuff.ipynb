{
 "cells": [
  {
   "cell_type": "markdown",
   "id": "d0bacecf",
   "metadata": {},
   "source": [
    "Make some data and do PCA on it."
   ]
  },
  {
   "cell_type": "markdown",
   "id": "c7d2319d",
   "metadata": {},
   "source": [
    "## set up distribution, generate data"
   ]
  },
  {
   "cell_type": "code",
   "execution_count": null,
   "id": "c160b50a",
   "metadata": {},
   "outputs": [],
   "source": [
    "import matplotlib.pyplot as plt\n",
    "import numpy as np\n",
    "from numpy.random import normal\n",
    "\n",
    "a = 1\n",
    "b = 10\n",
    "\n",
    "y = lambda x: a*x + b + normal()\n",
    "\n",
    "n = 100\n",
    "\n",
    "# generate data.\n",
    "xx = normal(0, 1, n)\n",
    "yy = np.array([y(x) for x in xx])\n",
    "\n",
    "plt.figure()\n",
    "plt.scatter(xx, yy)\n",
    "plt.show()"
   ]
  },
  {
   "cell_type": "code",
   "execution_count": null,
   "id": "3b6e0320",
   "metadata": {},
   "outputs": [],
   "source": [
    "# standardize.\n",
    "\n",
    "xx_standardized = (xx - np.mean(xx))/np.std(xx)\n",
    "yy_standardized = (yy - np.mean(yy))/np.std(yy)\n",
    "\n",
    "plt.figure()\n",
    "plt.scatter(xx_standardized, yy_standardized)\n",
    "plt.show()"
   ]
  },
  {
   "cell_type": "code",
   "execution_count": null,
   "id": "f1fada84",
   "metadata": {},
   "outputs": [],
   "source": [
    "# data set.\n",
    "\n",
    "S = np.array([xx_standardized, yy_standardized])\n",
    "u, s, vh = np.linalg.svd(S)\n",
    "print(u)\n",
    "\n",
    "alpha=3\n",
    "\n",
    "plt.figure(figsize=(6.4, 6.4))\n",
    "plt.scatter(xx_standardized, yy_standardized)\n",
    "\n",
    "# shabby way of plotting axis.\n",
    "plt.plot([-alpha*u[0][0], alpha*u[0][0]], [-alpha*u[0][1], alpha*u[0][1]], color='red', label='pc1')\n",
    "plt.plot([-alpha*u[1][0], alpha*u[1][0]], [-alpha*u[1][1], alpha*u[1][1]], color='black', label='pc2')\n",
    "plt.xlim(-4, 4)\n",
    "plt.ylim(-4, 4)\n",
    "plt.legend()\n",
    "plt.show()"
   ]
  },
  {
   "cell_type": "code",
   "execution_count": null,
   "id": "70185fa4",
   "metadata": {},
   "outputs": [],
   "source": []
  }
 ],
 "metadata": {
  "kernelspec": {
   "display_name": "Python 3",
   "language": "python",
   "name": "python3"
  },
  "language_info": {
   "codemirror_mode": {
    "name": "ipython",
    "version": 3
   },
   "file_extension": ".py",
   "mimetype": "text/x-python",
   "name": "python",
   "nbconvert_exporter": "python",
   "pygments_lexer": "ipython3",
   "version": "3.8.8"
  }
 },
 "nbformat": 4,
 "nbformat_minor": 5
}
