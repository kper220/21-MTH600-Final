{
 "cells": [
  {
   "cell_type": "markdown",
   "id": "1495b405",
   "metadata": {},
   "source": [
    "# Opioid Crisis - Analysis"
   ]
  },
  {
   "cell_type": "markdown",
   "id": "faab4549",
   "metadata": {},
   "source": [
    "I want to take a second look at the data from the Opioid Crisis datasheet.\n",
    "\n",
    "- (link here: https://www.mathmodels.org/Problems/2019/MCM-C/index.html)\n",
    "\n",
    "Data we will work with:\n",
    "* MCM_NFLIS_Data.xlsx: drug identification counts in years 2010-2017\n",
    "* Socio-economic factors collected for five states (Ohio, Kentucky, West Virginia, Virginia, Pennsylvania)"
   ]
  },
  {
   "cell_type": "code",
   "execution_count": null,
   "id": "94f6b9c5",
   "metadata": {},
   "outputs": [],
   "source": [
    "import numpy as np\n",
    "import pandas as pd\n",
    "\n",
    "# drug use data.\n",
    "df_nflis = pd.read_excel('2018_MCMProblemC_DATA/MCM_NFLIS_Data.xlsx', sheet_name=\"Data\")\n",
    "\n",
    "# socio-economic data.\n",
    "df10 = pd.read_csv('2018_MCMProblemC_DATA/ACS_10_5YR_DP02/ACS_10_5YR_DP02_with_ann.csv')\n",
    "df11 = pd.read_csv('2018_MCMProblemC_DATA/ACS_11_5YR_DP02/ACS_11_5YR_DP02_with_ann.csv')\n",
    "# df_acs_12 = pd.read_csv('2018_MCMProblemC_DATA/ACS_12_5YR_DP02/ACS_12_5YR_DP02_with_ann.csv')\n",
    "# df_acs_13 = pd.read_csv('2018_MCMProblemC_DATA/ACS_13_5YR_DP02/ACS_13_5YR_DP02_with_ann.csv')\n",
    "df14 = pd.read_csv('2018_MCMProblemC_DATA/ACS_14_5YR_DP02/ACS_14_5YR_DP02_with_ann.csv')\n",
    "df15 = pd.read_csv('2018_MCMProblemC_DATA/ACS_15_5YR_DP02/ACS_15_5YR_DP02_with_ann.csv')\n",
    "df16 = pd.read_csv('2018_MCMProblemC_DATA/ACS_16_5YR_DP02/ACS_16_5YR_DP02_with_ann.csv')\n",
    "\n",
    "# indexing data.\n",
    "df10_meta = pd.read_csv('2018_MCMProblemC_DATA/ACS_10_5YR_DP02/ACS_10_5YR_DP02_metadata.csv')\n",
    "df11_meta = pd.read_csv('2018_MCMProblemC_DATA/ACS_11_5YR_DP02/ACS_11_5YR_DP02_metadata.csv')\n",
    "df14_meta = pd.read_csv('2018_MCMProblemC_DATA/ACS_14_5YR_DP02/ACS_14_5YR_DP02_metadata.csv')\n",
    "df15_meta = pd.read_csv('2018_MCMProblemC_DATA/ACS_15_5YR_DP02/ACS_15_5YR_DP02_metadata.csv')\n",
    "df16_meta = pd.read_csv('2018_MCMProblemC_DATA/ACS_16_5YR_DP02/ACS_16_5YR_DP02_metadata.csv')"
   ]
  },
  {
   "cell_type": "markdown",
   "id": "9ccd642d",
   "metadata": {},
   "source": [
    "Parts of the data are not available."
   ]
  },
  {
   "cell_type": "markdown",
   "id": "3e508911",
   "metadata": {},
   "source": [
    "## Data Processing Part\n",
    "\n",
    "Feature extraction part:\n",
    "* Include geography (specifically `GEO.display-label`).\n",
    "* Exclude margin of error.\n",
    "* Exclude columns with `(X)`.\n",
    "* Exclude non-universal data."
   ]
  },
  {
   "cell_type": "markdown",
   "id": "90734f45",
   "metadata": {},
   "source": [
    "The function `feature_extract` will extract features as to satisfy the above conditions (save universality)."
   ]
  },
  {
   "cell_type": "code",
   "execution_count": null,
   "id": "bf9c25b8",
   "metadata": {
    "scrolled": false
   },
   "outputs": [],
   "source": [
    "from opioid_crisis_lib import feature_extract\n",
    "df10[feature_extract(df10, df10_meta)]"
   ]
  },
  {
   "cell_type": "markdown",
   "id": "2fc4175a",
   "metadata": {},
   "source": [
    "As we see only the \"important\" data remain. We've gotten rid of error data as well as inadmissible data."
   ]
  },
  {
   "cell_type": "code",
   "execution_count": null,
   "id": "cd345d7e",
   "metadata": {},
   "outputs": [],
   "source": [
    "from opioid_crisis_lib import feature_index\n",
    "\n",
    "ddf = [df10, df11, df14, df15, df16]\n",
    "ddf_metadata = [df10_meta, df11_meta, df14_meta, df15_meta, df16_meta]\n",
    "\n",
    "sorted(feature_index(ddf, ddf_metadata))"
   ]
  },
  {
   "cell_type": "code",
   "execution_count": null,
   "id": "a967b1f8",
   "metadata": {},
   "outputs": [],
   "source": []
  }
 ],
 "metadata": {
  "kernelspec": {
   "display_name": "Python 3",
   "language": "python",
   "name": "python3"
  },
  "language_info": {
   "codemirror_mode": {
    "name": "ipython",
    "version": 3
   },
   "file_extension": ".py",
   "mimetype": "text/x-python",
   "name": "python",
   "nbconvert_exporter": "python",
   "pygments_lexer": "ipython3",
   "version": "3.8.8"
  }
 },
 "nbformat": 4,
 "nbformat_minor": 5
}
