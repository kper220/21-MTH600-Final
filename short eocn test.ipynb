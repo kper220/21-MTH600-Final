{
 "cells": [
  {
   "cell_type": "markdown",
   "id": "9711a73f",
   "metadata": {},
   "source": [
    "# short econ test"
   ]
  },
  {
   "cell_type": "code",
   "execution_count": null,
   "id": "6ad90836",
   "metadata": {},
   "outputs": [],
   "source": [
    "import matplotlib.pyplot as plt\n",
    "import numpy as np\n",
    "from numpy.random import normal\n",
    "import pandas as pd\n",
    "from sklearn.decomposition import PCA"
   ]
  },
  {
   "cell_type": "code",
   "execution_count": null,
   "id": "3491a410",
   "metadata": {},
   "outputs": [],
   "source": [
    "# define demand and supply with respect to price.\n",
    "# coefs for demand.\n",
    "d1 = 5\n",
    "d2 = .10\n",
    "\n",
    "# supply\n",
    "s1 = -.5\n",
    "s2 = .1\n",
    "\n",
    "\n",
    "def demand(p):\n",
    "    return d1 * p + d2 + normal()\n",
    "def supply(p):\n",
    "    return s1 * p + s2 + normal()\n",
    "\n",
    "# create sample space of size m.\n",
    "m = 1000\n",
    "\n",
    "sample = np.array([[p, demand(p), supply(p)] for p in normal(0, 5, m)])\n",
    "df = pd.DataFrame(sample, columns=[\"price\", \"demand\", \"supply\"])\n",
    "df"
   ]
  },
  {
   "cell_type": "code",
   "execution_count": null,
   "id": "27a3dc39",
   "metadata": {},
   "outputs": [],
   "source": [
    "x, y, z = sample.T"
   ]
  },
  {
   "cell_type": "code",
   "execution_count": null,
   "id": "20cbd250",
   "metadata": {},
   "outputs": [],
   "source": [
    "plt.figure(figsize=(8, 8))\n",
    "plt.scatter(x, y)\n",
    "plt.show()"
   ]
  },
  {
   "cell_type": "code",
   "execution_count": null,
   "id": "80267e05",
   "metadata": {},
   "outputs": [],
   "source": [
    "plt.figure(figsize=(8, 8))\n",
    "plt.scatter(x, z)\n",
    "plt.show()"
   ]
  },
  {
   "cell_type": "code",
   "execution_count": null,
   "id": "3a7cbc24",
   "metadata": {},
   "outputs": [],
   "source": [
    "plt.figure(figsize=(8, 8))\n",
    "plt.scatter(y, z)\n",
    "plt.show()"
   ]
  },
  {
   "cell_type": "code",
   "execution_count": null,
   "id": "0ee7e326",
   "metadata": {},
   "outputs": [],
   "source": [
    "from mpl_toolkits import mplot3d\n",
    "fig = plt.figure(figsize=(8, 8))\n",
    "ax = plt.axes(projection='3d')\n",
    "ax.scatter(x, y, z, alpha=.3)\n",
    "ax.view_init(10, 10)"
   ]
  },
  {
   "cell_type": "code",
   "execution_count": null,
   "id": "7a6dc181",
   "metadata": {},
   "outputs": [],
   "source": [
    "# standardize.\n",
    "from opioid_crisis_lib import standardize\n",
    "\n",
    "df_standardized = standardize(df)\n",
    "df_standardized"
   ]
  },
  {
   "cell_type": "code",
   "execution_count": null,
   "id": "8064ee6e",
   "metadata": {},
   "outputs": [],
   "source": [
    "pca = PCA(n_components=3)\n",
    "principalComponents = pca.fit_transform(df_standardized)\n",
    "principalDf = pd.DataFrame(data = principalComponents,\n",
    "                           columns = ['principal component 1', 'principal component 2', 'principal component 3'])\n",
    "principalDf"
   ]
  },
  {
   "cell_type": "code",
   "execution_count": null,
   "id": "bd763e34",
   "metadata": {},
   "outputs": [],
   "source": [
    "fig = plt.figure(figsize = (8,8))\n",
    "plt.xlabel('Principal Component 1', fontsize = 15)\n",
    "plt.ylabel('Principal Component 2', fontsize = 15)\n",
    "plt.title('2 component PCA', fontsize = 20)\n",
    "plt.scatter(principalDf['principal component 1'], principalDf['principal component 2'])\n",
    "plt.show()"
   ]
  },
  {
   "cell_type": "code",
   "execution_count": null,
   "id": "f1893fda",
   "metadata": {},
   "outputs": [],
   "source": [
    "eigenvalues, eigenvectors = np.linalg.eig(principalDf.cov())"
   ]
  },
  {
   "cell_type": "code",
   "execution_count": null,
   "id": "13cc2dae",
   "metadata": {},
   "outputs": [],
   "source": [
    "eigenvectors.T"
   ]
  },
  {
   "cell_type": "code",
   "execution_count": null,
   "id": "18aa8be9",
   "metadata": {},
   "outputs": [],
   "source": []
  }
 ],
 "metadata": {
  "kernelspec": {
   "display_name": "Python 3",
   "language": "python",
   "name": "python3"
  },
  "language_info": {
   "codemirror_mode": {
    "name": "ipython",
    "version": 3
   },
   "file_extension": ".py",
   "mimetype": "text/x-python",
   "name": "python",
   "nbconvert_exporter": "python",
   "pygments_lexer": "ipython3",
   "version": "3.8.8"
  }
 },
 "nbformat": 4,
 "nbformat_minor": 5
}
