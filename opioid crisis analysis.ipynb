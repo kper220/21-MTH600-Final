{
 "cells": [
  {
   "cell_type": "markdown",
   "id": "1495b405",
   "metadata": {},
   "source": [
    "# Opioid Crisis - Analysis"
   ]
  },
  {
   "cell_type": "markdown",
   "id": "faab4549",
   "metadata": {},
   "source": [
    "I want to take a second look at the data from the Opioid Crisis datasheet.\n",
    "\n",
    "- (link here: https://www.mathmodels.org/Problems/2019/MCM-C/index.html)\n",
    "\n",
    "Motivation: worked on it during 2019 for two days. Still interested.\n",
    "\n",
    "Data we will work with:\n",
    "* Drug identification counts in years 2010-2016\n",
    "* Socio-economic factors collected for five states (Ohio, Kentucky, West Virginia, Virginia, Pennsylvania)"
   ]
  },
  {
   "cell_type": "code",
   "execution_count": null,
   "id": "94f6b9c5",
   "metadata": {},
   "outputs": [],
   "source": [
    "import numpy as np\n",
    "import pandas as pd\n",
    "\n",
    "# drug use data.\n",
    "df_nflis = pd.read_excel('2018_MCMProblemC_DATA/MCM_NFLIS_Data.xlsx', sheet_name=\"Data\")\n",
    "\n",
    "# socio-economic data.\n",
    "df10 = pd.read_csv('2018_MCMProblemC_DATA/ACS_10_5YR_DP02/ACS_10_5YR_DP02_with_ann.csv')\n",
    "df11 = pd.read_csv('2018_MCMProblemC_DATA/ACS_11_5YR_DP02/ACS_11_5YR_DP02_with_ann.csv')\n",
    "df12 = pd.read_csv('2018_MCMProblemC_DATA/ACS_12_5YR_DP02/ACS_12_5YR_DP02_with_ann.csv')\n",
    "df13 = pd.read_csv('2018_MCMProblemC_DATA/ACS_13_5YR_DP02/ACS_13_5YR_DP02_with_ann.csv')\n",
    "df14 = pd.read_csv('2018_MCMProblemC_DATA/ACS_14_5YR_DP02/ACS_14_5YR_DP02_with_ann.csv')\n",
    "df15 = pd.read_csv('2018_MCMProblemC_DATA/ACS_15_5YR_DP02/ACS_15_5YR_DP02_with_ann.csv')\n",
    "df16 = pd.read_csv('2018_MCMProblemC_DATA/ACS_16_5YR_DP02/ACS_16_5YR_DP02_with_ann.csv')\n",
    "\n",
    "# indexing data.\n",
    "df10_meta = pd.read_csv('2018_MCMProblemC_DATA/ACS_10_5YR_DP02/ACS_10_5YR_DP02_metadata.csv')\n",
    "df11_meta = pd.read_csv('2018_MCMProblemC_DATA/ACS_11_5YR_DP02/ACS_11_5YR_DP02_metadata.csv')\n",
    "df12_meta = pd.read_csv('2018_MCMProblemC_DATA/ACS_12_5YR_DP02/ACS_12_5YR_DP02_metadata.csv')\n",
    "df13_meta = pd.read_csv('2018_MCMProblemC_DATA/ACS_13_5YR_DP02/ACS_13_5YR_DP02_metadata.csv')\n",
    "df14_meta = pd.read_csv('2018_MCMProblemC_DATA/ACS_14_5YR_DP02/ACS_14_5YR_DP02_metadata.csv')\n",
    "df15_meta = pd.read_csv('2018_MCMProblemC_DATA/ACS_15_5YR_DP02/ACS_15_5YR_DP02_metadata.csv')\n",
    "df16_meta = pd.read_csv('2018_MCMProblemC_DATA/ACS_16_5YR_DP02/ACS_16_5YR_DP02_metadata.csv')"
   ]
  },
  {
   "cell_type": "markdown",
   "id": "9ccd642d",
   "metadata": {},
   "source": [
    "Parts of the data are not available."
   ]
  },
  {
   "cell_type": "markdown",
   "id": "3e508911",
   "metadata": {},
   "source": [
    "## Preprocessing\n",
    "\n",
    "General plan: iterate over socio-economic data, and append with relevant drug use data.\n",
    "\n",
    "Feature extraction part:\n",
    "* Include geography (specifically `GEO.display-label`).\n",
    "* Exclude margin of error.\n",
    "* Exclude columns with `(X)`.\n",
    "* Exclude non-universal data."
   ]
  },
  {
   "cell_type": "code",
   "execution_count": null,
   "id": "2037aa02",
   "metadata": {},
   "outputs": [],
   "source": [
    "df10"
   ]
  },
  {
   "cell_type": "markdown",
   "id": "90734f45",
   "metadata": {},
   "source": [
    "The function `feature_extract` will extract features as to satisfy the above conditions (save universality)."
   ]
  },
  {
   "cell_type": "code",
   "execution_count": null,
   "id": "bf9c25b8",
   "metadata": {
    "scrolled": false
   },
   "outputs": [],
   "source": [
    "from opioid_crisis_lib import feature_extract\n",
    "df10[feature_extract(df10, df10_meta)]"
   ]
  },
  {
   "cell_type": "markdown",
   "id": "6675f380",
   "metadata": {},
   "source": [
    "### Filtering Data with Universal Property"
   ]
  },
  {
   "cell_type": "markdown",
   "id": "2fc4175a",
   "metadata": {},
   "source": [
    "As we see only the \"important\" data remain. We've gotten rid of error estimate data as well as inadmissible data."
   ]
  },
  {
   "cell_type": "code",
   "execution_count": null,
   "id": "cd345d7e",
   "metadata": {
    "scrolled": false
   },
   "outputs": [],
   "source": [
    "from opioid_crisis_lib import feature_index\n",
    "\n",
    "ddf = [df10, df11, df12, df13, df14, df15, df16]\n",
    "ddf_metadata = [df10_meta,\n",
    "                df11_meta,\n",
    "                df12_meta,\n",
    "                df13_meta,\n",
    "                df14_meta,\n",
    "                df15_meta,\n",
    "                df16_meta]\n",
    "\n",
    "f_index = feature_index(ddf, ddf_metadata)\n",
    "\n",
    "sorted(f_index)"
   ]
  },
  {
   "cell_type": "code",
   "execution_count": null,
   "id": "0c1c7c42",
   "metadata": {},
   "outputs": [],
   "source": [
    "f_index['Estimate; ANCESTRY - Total population']"
   ]
  },
  {
   "cell_type": "markdown",
   "id": "e78c6f32",
   "metadata": {},
   "source": [
    "We obtain a map from descriptors to corresponding labels. This allows us to go back and forth between description and label.\n",
    "\n",
    "The above data corresponds to the socio-economic data of a particular county at some specified year. When we go over drug use data, the `YYYY`, `State` and `County` data should sufficiently return the appropriate socio-economic data."
   ]
  },
  {
   "cell_type": "code",
   "execution_count": null,
   "id": "c4e1d60d",
   "metadata": {},
   "outputs": [],
   "source": [
    "from opioid_crisis_lib import state_and_county\n",
    "state_and_county(\"Adair County, Kentucky\")"
   ]
  },
  {
   "cell_type": "markdown",
   "id": "4049ff83",
   "metadata": {},
   "source": [
    "### Retrieving Geographic Data"
   ]
  },
  {
   "cell_type": "markdown",
   "id": "d91dde96",
   "metadata": {},
   "source": [
    "In addition, for each county there should be a method to retrieve numerical geographic data:"
   ]
  },
  {
   "cell_type": "code",
   "execution_count": null,
   "id": "f74d0c2b",
   "metadata": {},
   "outputs": [],
   "source": [
    "df_geo = pd.read_csv('2021_Gaz_counties_national.txt', sep=\"\\t\")\n",
    "from opioid_crisis_lib import locate\n",
    "locate(\"ky\", \"adair\", df_geo)"
   ]
  },
  {
   "cell_type": "code",
   "execution_count": null,
   "id": "9e1b16da",
   "metadata": {},
   "outputs": [],
   "source": [
    "np.array(df_geo[[\"USPS\", \"NAME\"]])"
   ]
  },
  {
   "cell_type": "markdown",
   "id": "fa876302",
   "metadata": {},
   "source": [
    "### Processing Drug Data"
   ]
  },
  {
   "cell_type": "code",
   "execution_count": null,
   "id": "26cfc0ba",
   "metadata": {},
   "outputs": [],
   "source": [
    "df_nflis[[\"YYYY\", \"State\", \"COUNTY\", \"SubstanceName\", \"DrugReports\"]]"
   ]
  },
  {
   "cell_type": "markdown",
   "id": "0470b370",
   "metadata": {},
   "source": [
    "Of importance is the type of drugs reported."
   ]
  },
  {
   "cell_type": "code",
   "execution_count": null,
   "id": "fd4902f1",
   "metadata": {},
   "outputs": [],
   "source": [
    "df_nflis[\"SubstanceName\"]"
   ]
  },
  {
   "cell_type": "markdown",
   "id": "5813c7c1",
   "metadata": {},
   "source": [
    "The following gives a survey of distinct drug types (indexed)."
   ]
  },
  {
   "cell_type": "code",
   "execution_count": null,
   "id": "7569cad7",
   "metadata": {},
   "outputs": [],
   "source": [
    "substanceNames = sorted(set(df_nflis[\"SubstanceName\"]))\n",
    "substanceNames"
   ]
  },
  {
   "cell_type": "code",
   "execution_count": null,
   "id": "7977ad28",
   "metadata": {},
   "outputs": [],
   "source": [
    "print(len(substanceNames))"
   ]
  },
  {
   "cell_type": "markdown",
   "id": "8765fac9",
   "metadata": {},
   "source": [
    "Convert this to a dictionary so we can map substance use to a particular index."
   ]
  },
  {
   "cell_type": "code",
   "execution_count": null,
   "id": "4203605e",
   "metadata": {},
   "outputs": [],
   "source": [
    "substanceNamesDict = {substanceNames[i]:i for i in range(69)}"
   ]
  },
  {
   "cell_type": "markdown",
   "id": "d18625bc",
   "metadata": {},
   "source": [
    "Given data on `drug reports` and `substance name`, we can construct a vector which indicates extent of a particular drug use in a county."
   ]
  },
  {
   "cell_type": "code",
   "execution_count": null,
   "id": "073fa8b8",
   "metadata": {
    "scrolled": false
   },
   "outputs": [],
   "source": [
    "from opioid_crisis_lib import drug_matrix\n",
    "drug_matrix(df_nflis, substanceNamesDict)"
   ]
  },
  {
   "cell_type": "markdown",
   "id": "fe47371c",
   "metadata": {},
   "source": [
    "Now due to redundancy, a single county may occur multiple times. We want to have one drug vector per county."
   ]
  },
  {
   "cell_type": "code",
   "execution_count": null,
   "id": "88226838",
   "metadata": {},
   "outputs": [],
   "source": [
    "from opioid_crisis_lib import drug_vector\n",
    "drug_vector(\"2010\", \"oh\", \"adams\", df_nflis, substanceNamesDict, identify=True)"
   ]
  },
  {
   "cell_type": "markdown",
   "id": "c2bcce55",
   "metadata": {},
   "source": [
    "### Compiling Data\n",
    "\n",
    "We can do this:\n",
    "1. Determine the overall dimension of the sample matrix. (doable)\n",
    "1. Iterate through socio-economic dataframe rows, through the years 2010-2016,\n",
    "    1. For each row, gather socio-economic data, AND data which identifies the State, county and year.\n",
    "    1. Retrieve the geographic location of the county, append.\n",
    "    1. Retrieve the drug vector of the county, append.\n",
    "2. Write all appended data into one numpy array.\n",
    "3. (Optional) Move independent columns (geographical location, socio-economic data) to the beginning, and the drug vector to the end.\n",
    "\n",
    "Make sure the data is recoverable and that rows have unique identifiers. (which indicate year, state and county)"
   ]
  },
  {
   "cell_type": "markdown",
   "id": "7b0f7300",
   "metadata": {},
   "source": [
    "Index dataframes with their corresponding year."
   ]
  },
  {
   "cell_type": "code",
   "execution_count": null,
   "id": "2f796197",
   "metadata": {},
   "outputs": [],
   "source": [
    "ddf_yyyy = {\n",
    "    \"2010\": df10,\n",
    "    \"2011\": df11,\n",
    "    \"2012\": df12,\n",
    "    \"2013\": df13,\n",
    "    \"2014\": df14,\n",
    "    \"2015\": df15,\n",
    "    \"2016\": df16,\n",
    "}\n",
    "\n",
    "ddf_metadata_yyyy = {\n",
    "    \"2010\": df10_meta,\n",
    "    \"2011\": df11_meta,\n",
    "    \"2012\": df12_meta,\n",
    "    \"2013\": df13_meta,\n",
    "    \"2014\": df14_meta,\n",
    "    \"2015\": df15_meta,\n",
    "    \"2016\": df16_meta,\n",
    "}"
   ]
  },
  {
   "cell_type": "code",
   "execution_count": null,
   "id": "de7aae1a",
   "metadata": {},
   "outputs": [],
   "source": []
  }
 ],
 "metadata": {
  "kernelspec": {
   "display_name": "Python 3",
   "language": "python",
   "name": "python3"
  },
  "language_info": {
   "codemirror_mode": {
    "name": "ipython",
    "version": 3
   },
   "file_extension": ".py",
   "mimetype": "text/x-python",
   "name": "python",
   "nbconvert_exporter": "python",
   "pygments_lexer": "ipython3",
   "version": "3.8.8"
  }
 },
 "nbformat": 4,
 "nbformat_minor": 5
}
